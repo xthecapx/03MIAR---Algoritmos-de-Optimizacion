{
  "nbformat": 4,
  "nbformat_minor": 0,
  "metadata": {
    "colab": {
      "provenance": [],
      "include_colab_link": true
    },
    "kernelspec": {
      "name": "python3",
      "display_name": "Python 3"
    },
    "language_info": {
      "name": "python"
    }
  },
  "cells": [
    {
      "cell_type": "markdown",
      "metadata": {
        "id": "view-in-github",
        "colab_type": "text"
      },
      "source": [
        "<a href=\"https://colab.research.google.com/github/xthecapx/03MIAR---Algoritmos-de-Optimizacion/blob/main/Cristian_Marquez_AG1.ipynb\" target=\"_parent\"><img src=\"https://colab.research.google.com/assets/colab-badge.svg\" alt=\"Open In Colab\"/></a>"
      ]
    },
    {
      "cell_type": "markdown",
      "source": [
        "Nombre: Cristian Daniel Marquez Barrios\n",
        "\n",
        "Enlace: https://colab.research.google.com/drive/1P_uUFOrGvMSVJcWgkO0alf1sEDKK9uMw?usp=sharing\n",
        "\n",
        "GitHub: https://github.com/xthecapx/03MIAR---Algoritmos-de-Optimizacion/blob/main/Cristian_Marquez_AG1.ipynb\n",
        "\n",
        "## Importante!\n",
        "\n",
        "Este trabajo cuenta con una implementación de la actividad extra"
      ],
      "metadata": {
        "id": "PYY5Y94bQsru"
      }
    },
    {
      "cell_type": "code",
      "source": [
        "#Torres de Hanoi - Divide y venceras\n",
        "################################################################################\n",
        "\n",
        "\n",
        "################################################################\n",
        "def Torres_Hanoi(N, desde, hasta):\n",
        "  #N - Nº de fichas\n",
        "  #desde - torre inicial\n",
        "  #hasta - torre fina\n",
        "  if N==1 :\n",
        "    print(\"Lleva la ficha desde \" + str(desde) + \" hasta \" + str(hasta))\n",
        "\n",
        "  else:\n",
        "    Torres_Hanoi(N-1, desde, 6-desde-hasta)\n",
        "    print(\"Lleva la ficha desde \" + str(desde) + \" hasta \" + str(hasta))\n",
        "    Torres_Hanoi(N-1, 6-desde-hasta,  hasta)\n",
        "\n",
        "Torres_Hanoi(3, 1, 3)\n",
        "################################################################"
      ],
      "metadata": {
        "colab": {
          "base_uri": "https://localhost:8080/"
        },
        "id": "dVmPeWMHS94B",
        "outputId": "38b468f0-b243-4a80-9ce5-e2addc4daedc"
      },
      "execution_count": null,
      "outputs": [
        {
          "output_type": "stream",
          "name": "stdout",
          "text": [
            "Lleva la ficha desde 1 hasta 3\n",
            "Lleva la ficha desde 1 hasta 2\n",
            "Lleva la ficha desde 3 hasta 2\n",
            "Lleva la ficha desde 1 hasta 3\n",
            "Lleva la ficha desde 2 hasta 1\n",
            "Lleva la ficha desde 2 hasta 3\n",
            "Lleva la ficha desde 1 hasta 3\n"
          ]
        }
      ]
    },
    {
      "cell_type": "code",
      "source": [
        "#Cambio de monedas - Técnica voraz\n",
        "################################################################################\n",
        "SISTEMA = [12, 5 ,2, 1  ]\n",
        "################################################################\n",
        "def cambio_monedas(CANTIDAD,SISTEMA):\n",
        "#....\n",
        "  SOLUCION = [0]*len(SISTEMA)\n",
        "  ValorAcumulado = 0\n",
        "\n",
        "  for i,valor in enumerate(SISTEMA):\n",
        "    print(i,valor)\n",
        "    monedas = (CANTIDAD-ValorAcumulado)//valor\n",
        "    SOLUCION[i] = monedas\n",
        "    ValorAcumulado = ValorAcumulado + monedas*valor\n",
        "    print(monedas,ValorAcumulado,SOLUCION)\n",
        "    if CANTIDAD == ValorAcumulado:\n",
        "      return SOLUCION\n",
        "\n",
        "  print(\"No es posible encontrar solucion\") \n",
        "cambio_monedas(15,SISTEMA)\n",
        "\n",
        "    \n",
        "################################################################"
      ],
      "metadata": {
        "colab": {
          "base_uri": "https://localhost:8080/"
        },
        "id": "S1UaNDelX1GV",
        "outputId": "02c4fd59-d87b-4567-99b0-f4fd7fdd831d"
      },
      "execution_count": null,
      "outputs": [
        {
          "output_type": "stream",
          "name": "stdout",
          "text": [
            "0 12\n",
            "1 12 [1, 0, 0, 0]\n",
            "1 5\n",
            "0 12 [1, 0, 0, 0]\n",
            "2 2\n",
            "1 14 [1, 0, 1, 0]\n",
            "3 1\n",
            "1 15 [1, 0, 1, 1]\n"
          ]
        },
        {
          "output_type": "execute_result",
          "data": {
            "text/plain": [
              "[1, 0, 1, 1]"
            ]
          },
          "metadata": {},
          "execution_count": 9
        }
      ]
    },
    {
      "cell_type": "code",
      "source": [
        "#N Reinas - Vuelta Atrás()\n",
        "################################################################################\n",
        "\n",
        "#Verifica que en la solución parcial no hay amenzas entre reinas\n",
        "################################################################\n",
        "def es_prometedora(SOLUCION,etapa):\n",
        "################################################################\n",
        "  #print(SOLUCION)\n",
        "  #Si la solución tiene dos valores iguales no es valida => Dos reinas en la misma fila\n",
        "  for i in range(etapa+1):\n",
        "    #print(\"El valor \" + str(SOLUCION[i]) + \" está \" +  str(SOLUCION.count(SOLUCION[i])) + \" veces\")\n",
        "    if SOLUCION.count(SOLUCION[i]) > 1:       \n",
        "      return False\n",
        "  \n",
        "    #Verifica las diagonales\n",
        "    for j in range(i+1, etapa +1 ):\n",
        "      #print(\"Comprobando diagonal de \" + str(i) + \" y \" + str(j))\n",
        "      if abs(i-j) == abs(SOLUCION[i]-SOLUCION[j]) : return False\n",
        "  return True\n",
        "\n",
        "#Traduce la solución al tablero\n",
        "################################################################\n",
        "def escribe_solucion(S):\n",
        "################################################################\n",
        "  n = len(S)\n",
        "  for x in range(n):\n",
        "    print(\"\")\n",
        "    for i in range(n):\n",
        "      if S[i] == x+1:\n",
        "        print(\" X \" , end=\"\")\n",
        "      else:\n",
        "        print(\" - \", end=\"\")\n",
        "\n",
        "\n",
        "\n",
        "#Proceso principal de N-Reinas\n",
        "################################################################\n",
        "def reinas(N, solucion=[],etapa=0): \n",
        "################################################################\n",
        "### ....\n",
        "  if len(solucion) == 0:         # [0,0,0...]\n",
        "    solucion = [0 for i in range(N) ]\n",
        "  \n",
        "  for i in range(1, N+1):\n",
        "    solucion[etapa] = i\n",
        "    if es_prometedora(solucion, etapa):\n",
        "      if etapa == N-1:\n",
        "        print(solucion)\n",
        "      else:  \n",
        "        reinas(N, solucion, etapa+1)\n",
        "    else:\n",
        "      None\n",
        "  \n",
        "  solucion[etapa] = 0\n",
        "\n",
        "reinas(4,solucion=[],etapa=0)"
      ],
      "metadata": {
        "colab": {
          "base_uri": "https://localhost:8080/"
        },
        "id": "rLpW3xpSj5XP",
        "outputId": "ecab8319-8afb-4482-c438-bb674766a069"
      },
      "execution_count": null,
      "outputs": [
        {
          "output_type": "stream",
          "name": "stdout",
          "text": [
            "[2, 4, 1, 3]\n",
            "[3, 1, 4, 2]\n"
          ]
        }
      ]
    },
    {
      "cell_type": "code",
      "source": [
        "escribe_solucion([3, 1, 4, 2])"
      ],
      "metadata": {
        "colab": {
          "base_uri": "https://localhost:8080/"
        },
        "id": "TZ-Vz4Q6ospJ",
        "outputId": "c4a353c7-9584-47b5-86b5-96fff977e92f"
      },
      "execution_count": null,
      "outputs": [
        {
          "output_type": "stream",
          "name": "stdout",
          "text": [
            "\n",
            " -  X  -  - \n",
            " -  -  -  X \n",
            " X  -  -  - \n",
            " -  -  X  - "
          ]
        }
      ]
    },
    {
      "cell_type": "markdown",
      "source": [
        "Problema: Encontrar los dos puntos más cercanos:\n",
        "\n",
        "• Dado un conjunto de puntos se trata de encontrar los dos puntos más cercanos\n",
        "• Guía para aprendizaje:\n",
        "\n",
        " Suponer en 1D, o sea, una lista de números: [3403, 4537, 9089, 9746, 7259, ….\n",
        "\n",
        " Primer intento: Fuerza bruta\n",
        "\n",
        " Calcular la complejidad. ¿Se puede mejorar?\n",
        "\n",
        " Segundo intento. Aplicar Divide y Vencerás\n",
        "\n",
        " Calcular la complejidad. ¿Se puede mejorar?\n",
        "\n",
        " Extender el algoritmo a 2D: [(1122, 6175), (135, 4076), (7296, 2741)…\n",
        "\n",
        " Extender el algoritmo a 3D."
      ],
      "metadata": {
        "id": "a6eX9SOn1VTb"
      }
    },
    {
      "cell_type": "code",
      "source": [
        "## Algoritmo con divide y venceras que evita repetir las parejas de puntos que ya fueron evaluadas con range(index + 1, len(points))\n",
        "## la funcion euclidean_distance depende de la dimensión de los puntos y tiene una complejidad O(n)\n",
        "\n",
        "def euclidean_distance(x, y):\n",
        "  if isinstance(x, int) and isinstance(y, int):\n",
        "    return abs(x - y)\n",
        "\n",
        "  return sum((px - py) ** 2  for px, py in zip(x, y)) ** (1/2)\n",
        "\n",
        "def closest_point(points):\n",
        "  min = euclidean_distance(points[0], points[1])\n",
        "\n",
        "  for index, point_1 in enumerate(points):\n",
        "    for index_2 in range(index + 1, len(points)):\n",
        "      norm_1 = euclidean_distance(point_1, points[index_2])\n",
        "  \n",
        "      if norm_1 < min:\n",
        "        min = norm_1\n",
        "        min_points = (point_1, points[index_2])\n",
        "\n",
        "  return min_points\n",
        "\n",
        "test_1 = [1, 5, 20, 19]\n",
        "test_2 = [-2, -40, -39, 30, 50, 1, 2, 3]\n",
        "test_3 = [(1, 2), (0, 0), (1, 1), (10, 10)]\n",
        "test_4 = [(1, 2, 3), (0, 0, 0), (1, 1, 3), (10, 10, 1000)]\n",
        "print(closest_point(test_1))\n",
        "print(closest_point(test_2))\n",
        "print(closest_point(test_3))\n",
        "print(closest_point(test_4))"
      ],
      "metadata": {
        "colab": {
          "base_uri": "https://localhost:8080/"
        },
        "id": "LwEeVmkGsrel",
        "outputId": "384d5d18-2995-4f03-b1d7-1c0b07b03e13"
      },
      "execution_count": null,
      "outputs": [
        {
          "output_type": "stream",
          "name": "stdout",
          "text": [
            "(20, 19)\n",
            "(-40, -39)\n",
            "((1, 2), (1, 1))\n",
            "((1, 2, 3), (1, 1, 3))\n"
          ]
        }
      ]
    },
    {
      "cell_type": "code",
      "source": [],
      "metadata": {
        "id": "r8jEqiE61uHw"
      },
      "execution_count": null,
      "outputs": []
    }
  ]
}